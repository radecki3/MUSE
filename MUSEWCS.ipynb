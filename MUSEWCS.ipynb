{
 "cells": [
  {
   "cell_type": "markdown",
   "metadata": {},
   "source": [
    "<h4> *Most of the outputs here are not very interesting so these cells are not run
           Import Necessary Packages</h4>"
   ]
  },
  {
   "cell_type": "code",
   "execution_count": null,
   "metadata": {},
   "outputs": [],
   "source": [
    "import numpy as np\n",
    "import astropy.units as u\n",
    "from astropy.table import Table, Column\n",
    "import matplotlib.pyplot as plt\n",
    "from astropy.wcs import WCS\n",
    "from astropy.wcs.utils import skycoord_to_pixel\n",
    "from astropy.nddata import CCDData\n",
    "from astropy.io import fits\n",
    "from astropy.visualization import ImageNormalize, SqrtStretch, PercentileInterval\n",
    "from regions import PolygonSkyRegion\n",
    "from astropy.coordinates import SkyCoord\n",
    "from astroquery.gaia import Gaia\n",
    "import os\n",
    "#MUSEpack courtesty of Peter Zeidler. Download MUSEpack from his github page:\n",
    "#https://github.com/pzeidler89/MUSEpack/releases\n",
    "from MUSEpack.cubes import wcs_cor, pampelmuse_cat\n",
    "import json"
   ]
  },
  {
   "cell_type": "markdown",
   "metadata": {},
   "source": [
    "<h4> Show Desired MUSE Mosaic</h4>"
   ]
  },
  {
   "cell_type": "code",
   "execution_count": null,
   "metadata": {},
   "outputs": [],
   "source": [
    "#import mosaic & plot\n",
    "muse_full_file = 'Ha_mom0_mosaic.fits'\n",
    "\n",
    "muse_data, muse_hdr = fits.getdata(muse_full_file, header=True)\n",
    "print('Image shape:',muse_data.shape)\n",
    "wcs = WCS(muse_hdr)\n",
    "fig = plt.figure(figsize=(8, 7))\n",
    "ax = fig.add_subplot(projection=wcs)\n",
    "norm = ImageNormalize(muse_data, interval=PercentileInterval(98), stretch=SqrtStretch())\n",
    "ax.imshow(muse_data, origin='lower', cmap='cubehelix', norm=norm)\n",
    "ax.coords[0].set_axislabel('Right Ascension (J2000)')\n",
    "ax.coords[1].set_axislabel('Declination (J2000)')\n",
    "#ax.grid(color='yellow', ls=':', lw=1)"
   ]
  },
  {
   "cell_type": "markdown",
   "metadata": {},
   "source": [
    "<h4> GAIA Querying and Plotting </h4>"
   ]
  },
  {
   "cell_type": "code",
   "execution_count": null,
   "metadata": {},
   "outputs": [],
   "source": [
    "#set center coordinates for GAIA query \n",
    "ra_mid = muse_hdr['CRVAL1']\n",
    "dec_mid = muse_hdr['CRVAL2']\n",
    "coord = SkyCoord(ra=ra_mid, dec=dec_mid, unit=(u.degree, u.degree), frame='icrs')\n",
    "\n",
    "#set query size\n",
    "width = u.Quantity(0.35, u.deg)\n",
    "height = u.Quantity(0.132, u.deg)\n",
    "\n",
    "Gaia.ROW_LIMIT = -1 #unlimited rows\n",
    "\n",
    "#pull stars from GAIA\n",
    "r = Gaia.query_object_async(coordinate=coord, width=width, height=height)\n",
    "r.pprint(max_lines=12, max_width=130)\n",
    "\n",
    "#masking for magnitude = 18\n",
    "f555lim = 18\n",
    "valid3 = r['phot_g_mean_mag'] < f555lim\n",
    "r[valid3]\n",
    "\n",
    "#masking for magnitude = 19 (our chosen magnitude)\n",
    "f555lim_new = 19\n",
    "valid3_new = r['phot_g_mean_mag'] < f555lim_new\n",
    "r[valid3_new]\n",
    "\n",
    "#create SkyCoord objects from GAIA ra/dec values\n",
    "clist= SkyCoord(r[valid3]['ra'], r[valid3]['dec'], unit=(u.deg, u.deg))\n",
    "#converts sky coords to pixels\n",
    "pixlist = [wcs.world_to_pixel(c) for c in clist]\n",
    "#create x and y arrays of the pixels for plotting\n",
    "gaia_x = np.array(pixlist)[:,0]\n",
    "gaia_y = np.array(pixlist)[:,1]\n",
    "\n",
    "#same thing as above but for different list\n",
    "clist_new= SkyCoord(r[valid3_new]['ra'], r[valid3_new]['dec'], unit=(u.deg, u.deg))\n",
    "pixlist_new = [wcs.world_to_pixel(c) for c in clist_new]\n",
    "gaia_x_new = np.array(pixlist_new)[:,0]\n",
    "gaia_y_new = np.array(pixlist_new)[:,1]\n",
    "\n",
    "#re-plot mosaic, now with GAIA sources overlaid\n",
    "fig = plt.figure(figsize=(12,10))\n",
    "ax = fig.add_subplot(projection=wcs)\n",
    "norm = ImageNormalize(muse_data, interval=PercentileInterval(99), stretch=SqrtStretch())\n",
    "ax.imshow(muse_data, origin='lower', cmap='cubehelix', norm=norm)\n",
    "ax.coords[0].set_axislabel('Right Ascension (J2000)')\n",
    "ax.coords[1].set_axislabel('Declination (J2000)')\n",
    "#ax.scatter(gaia_x,gaia_y,marker='x',color='red', s=10)\n",
    "ax.scatter(gaia_x_new,gaia_y_new, marker='.',color='cyan',s=10, label='GAIA sources')\n",
    "ax.legend(loc='upper right')\n",
    "plt.show()"
   ]
  },
  {
   "cell_type": "markdown",
   "metadata": {},
   "source": [
    "<h4> PampelMuse Cat </h4>"
   ]
  },
  {
   "cell_type": "code",
   "execution_count": null,
   "metadata": {},
   "outputs": [],
   "source": [
    "#reference array shape - same as # of GAIA sources\n",
    "star_no_new = np.arange(len(r[valid3_new]['ra'])) + 1\n",
    "\n",
    "#Creates a reference csv catalog (file) from GAIA sources that is compatable with pampelmuse for WCS correction\n",
    "#Also creates a .reg file that's viewable in DS9 which plots sources\n",
    "#Takes ra,dec, and magnitude of GAIA sources\n",
    "pampelmuse_cat(r[valid3_new]['ra'],r[valid3_new]['dec'],r[valid3_new]['phot_g_mean_mag'],'g', idx=star_no_new)\n"
   ]
  },
  {
   "cell_type": "markdown",
   "metadata": {},
   "source": [
    "<h4> PampelMuse Routine </h4>"
   ]
  },
  {
   "cell_type": "code",
   "execution_count": null,
   "metadata": {},
   "outputs": [],
   "source": [
    "#Get GAIA Passband data from GAIA DR3 \n",
    "#https://www.cosmos.esa.int/web/gaia/edr3-passbands\n",
    "\n",
    "#read in passband data\n",
    "passband = ascii.read('passband.dat')\n",
    "#the 'ReadMe' file contains the information about what each column represents\n",
    "\n",
    "#add relevant data from passband file to new file\n",
    "passband_new = Table()\n",
    "passband_new['col1']= passband['col1'][0:731]*10 #convert nm --> angstrom\n",
    "passband_new['col2']= passband['col2'][0:731] #transmission values\n",
    "\n",
    "#write out GAIA passband ascii file\n",
    "passband_new.write('G',format='ascii.no_header',overwrite=True)\n",
    "\n",
    "print(passband)\n",
    "print(passband_new)"
   ]
  },
  {
   "cell_type": "code",
   "execution_count": null,
   "metadata": {},
   "outputs": [],
   "source": [
    "#For GAIA catalog, need to provide pampelmuse with reference transmission curve. So set pampelmuse environment variable to wherever\n",
    "#that is located.\n",
    "os.environ['PMFILTERPATH'] = 'Gaia_Transmission/'"
   ]
  },
  {
   "cell_type": "markdown",
   "metadata": {},
   "source": [
    "<h4> Below Cells Should be run for each Cube. A json file must be created first according to the parameters at https://pampelmuse.readthedocs.io/en/latest/start.html </h4>"
   ]
  },
  {
   "cell_type": "code",
   "execution_count": null,
   "metadata": {},
   "outputs": [],
   "source": [
    "####changes the json file parameters####\n",
    "\n",
    "#open reference json\n",
    "with open('user.json') as f:\n",
    "    data = json.load(f)\n",
    "    data[\"global\"][\"prefix\"] = 'OB1_N44_DATACUBE_FINAL_10' #change cube name\n",
    "    data[\"initfit\"][\"psfmag\"] = 18.5 #change psf magnitude limit (19 should be okay for all cubes) \n",
    "# write to newuser.json file\n",
    "with open('newuser.json', 'w') as f: \n",
    "    json.dump(data,f)"
   ]
  },
  {
   "cell_type": "code",
   "execution_count": null,
   "metadata": {},
   "outputs": [],
   "source": [
    "%%capture cap\n",
    "\n",
    "!PampelMuse newuser.json INITFIT\n",
    "!PampelMuse newuser.json CUBEFIT\n",
    "\n",
    "with open('PampelMuseOutput.txt', 'a') as f: #saves PampelMuse output\n",
    "    f.write(cap.stdout)"
   ]
  },
  {
   "cell_type": "code",
   "execution_count": null,
   "metadata": {},
   "outputs": [],
   "source": [
    "#POLYFIT is an optional step that is only necessary for examining spectra or if you want to manually adjust the PSF\n",
    "#we omitted this\n",
    "%%capture cap \n",
    "\n",
    "!PampelMuse newuser.json POLYFIT\n",
    "\n",
    "with open('PampelMuseOutput.txt', 'a') as f: #saves PampelMuse ouput\n",
    "    f.write(cap.stdout)"
   ]
  },
  {
   "cell_type": "markdown",
   "metadata": {},
   "source": [
    "<h4> Final MUSEpack Step</h4>"
   ]
  },
  {
   "cell_type": "code",
   "execution_count": null,
   "metadata": {},
   "outputs": [],
   "source": [
    "#PampelMuse ouputs a .prm.fits file which contains the calculated WCS corrections\n",
    "#wcs_cor applies the correction from this file to the cube and outputs a new, corrected, cube\n",
    "\n",
    "wcs_cor('OB1_N44_DATACUBE_FINAL_10',\n",
    "        'OB1_N44_DATACUBE_FINAL_10.prm.fits',\n",
    "        output_file='OB1_N44_DATACUBE_FINAL_10_cor',\n",
    "        path='cubes/',\n",
    "        offset_path='PrmFiles/')\n"
   ]
  }
 ],
 "metadata": {
  "kernelspec": {
   "display_name": "base",
   "language": "python",
   "name": "python3"
  },
  "language_info": {
   "codemirror_mode": {
    "name": "ipython",
    "version": 3
   },
   "file_extension": ".py",
   "mimetype": "text/x-python",
   "name": "python",
   "nbconvert_exporter": "python",
   "pygments_lexer": "ipython3",
   "version": "3.11.5"
  }
 },
 "nbformat": 4,
 "nbformat_minor": 2
}
